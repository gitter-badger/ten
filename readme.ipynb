{
 "cells": [
  {
   "cell_type": "markdown",
   "metadata": {
    "slideshow": {
     "slide_type": "slide"
    }
   },
   "source": [
    "Project Jupyter is a growing ecosystem of free, open source scientific software for interactive computing, \n",
    "consisting of millions of users and over a million notebooks on GitHub.  Jupyter's Notebook, and related \n",
    "experiences, are becoming standard interfaces for scientists and engineers.  The notebook interface is impacting \n",
    "the broader landscapes of research, computing, and teaching where data and code are essential; the stakeholders \n",
    "span industry, academia, and philanthropy."
   ]
  },
  {
   "cell_type": "code",
   "execution_count": 1,
   "metadata": {},
   "outputs": [
    {
     "data": {
      "text/html": [
       "<style>\n",
       "    @import url(\"https://cdn.jsdelivr.net/npm/firacode@1.205.0/distr/fira_code.css\");\n",
       "\n",
       "    pre code, \n",
       "    div.output_area pre, \n",
       "    .CodeMirror * {\n",
       "      font-family: 'Fira Code' !important; \n",
       "      font-variant-ligatures: initial !important;\n",
       "    }\n",
       "\n",
       "    .cm-string {\n",
       "        font-variant-ligatures: none;\n",
       "    }\n",
       "</style>\n"
      ],
      "text/plain": [
       "<IPython.core.display.HTML object>"
      ]
     },
     "metadata": {},
     "output_type": "display_data"
    }
   ],
   "source": [
    "    %reload_ext XXX.mumble"
   ]
  },
  {
   "cell_type": "code",
   "execution_count": 2,
   "metadata": {},
   "outputs": [],
   "source": [
    "    \n",
    "    ---\n",
    "    ˣ:\n",
    "        img: https://user-images.githubusercontent.com/4236275/35933146-bfb7ec94-0c07-11e8-98d5-8972dc4b4e39.png\n",
    "        jupyter: http://jupyter.org/\n",
    "        lab:\n",
    "        hub:\n",
    "        scipy:\n",
    "        glue: https://docs.scipy.org/doc/numpy/user/c-info.python-as-glue.html\n",
    "        numfocus:\n",
    "        pydata:\n",
    "        history\n",
    "        imat:\n",
    "        matin:\n",
    "        nbformat: https://github.com/jupyter/nbformat\n",
    "        kernels: https://github.com/jupyter/jupyter/wiki/Jupyter-kernels"
   ]
  },
  {
   "cell_type": "code",
   "execution_count": 3,
   "metadata": {
    "slideshow": {
     "slide_type": "-"
    }
   },
   "outputs": [
    {
     "data": {
      "text/markdown": [
       "![](https://user-images.githubusercontent.com/4236275/35933146-bfb7ec94-0c07-11e8-98d5-8972dc4b4e39.png)\n",
       "\n",
       "February 23, 12pm-2pm"
      ],
      "text/plain": [
       "<IPython.core.display.Markdown object>"
      ]
     },
     "metadata": {},
     "output_type": "display_data"
    }
   ],
   "source": [
    "![]({{ˣ.img}})\n",
    "\n",
    "February 23, 12pm-2pm"
   ]
  },
  {
   "cell_type": "code",
   "execution_count": 4,
   "metadata": {},
   "outputs": [
    {
     "data": {
      "text/html": [
       "<style>\n",
       "        iframe {\n",
       "            width: 100%;\n",
       "            min-height: 80vh;\n",
       "            max-height: 1000px;\n",
       "        }\n",
       "    </style>"
      ],
      "text/plain": [
       "<IPython.core.display.HTML object>"
      ]
     },
     "metadata": {},
     "output_type": "display_data"
    },
    {
     "data": {
      "text/html": [
       "<style>\n",
       "    body.rise-hack-active div.reveal .code_cell .input,\n",
       "    body.rise-hack-active div.reveal .output_stderr {\n",
       "        display: none;\n",
       "    }\n",
       "    button.rise-hack:hover {\n",
       "        opacity: 0.7;\n",
       "    }\n",
       "    button.rise-hack {\n",
       "        font-weight: bold;\n",
       "    }\n",
       "    body.rise-hack-active button.rise-hack {\n",
       "        text-decoration: line-through;\n",
       "    }\n",
       "    body.rise-hack-active .reveal .rendered_html table {\n",
       "        font-size: 16px;\n",
       "    }\n",
       "    body.rise-hack-active .reveal .prompt {\n",
       "        display: none;\n",
       "    }\n",
       "    </style>"
      ],
      "text/plain": [
       "<IPython.core.display.HTML object>"
      ]
     },
     "metadata": {},
     "output_type": "display_data"
    },
    {
     "data": {
      "application/javascript": [
       ";(function(){\n",
       "        function init() {   \n",
       "            $(\"button.rise-hack\").remove();\n",
       "            $(\"body\").addClass(\"rise-hack-active\");\n",
       "            var btn = $(\"<button/>\", {\"class\": \"rise-hack\"}).text(\"</>\");\n",
       "            btn.bind(\"click\", function(){\n",
       "                $(\"body\").toggleClass(\"rise-hack-active\");\n",
       "                Reveal.layout();\n",
       "            });\n",
       "            $(\".controls\").append(btn);\n",
       "        }\n",
       "\n",
       "        function subscribe(){\n",
       "            if(!window.Reveal){\n",
       "                return setTimeout(subscribe, 1000);\n",
       "            }\n",
       "            Reveal.addEventListener('ready', init);\n",
       "            init();\n",
       "        }\n",
       "        subscribe();   \n",
       "    }).call(this);"
      ],
      "text/plain": [
       "<IPython.core.display.Javascript object>"
      ]
     },
     "metadata": {},
     "output_type": "display_data"
    }
   ],
   "source": [
    "    \n",
    "    %reload_ext XXX.steez"
   ]
  },
  {
   "cell_type": "code",
   "execution_count": 5,
   "metadata": {
    "slideshow": {
     "slide_type": "subslide"
    }
   },
   "outputs": [
    {
     "data": {
      "text/markdown": [
       "This talk will review the history of Project Jupyter as scientific software born from the Scientific Python \n",
       "(SciPy) community.  Since it's inception, the community has extended Jupyter to work with over 50 different \n",
       "languages and provided new options for interactive development, research and presentation, including JupyterLab, \n",
       "the next generation of the Notebook.  In the broader open source community we find Jupyter tools for grading, batch \n",
       "processing, app development, documentation, tests, and even source code."
      ],
      "text/plain": [
       "<IPython.core.display.Markdown object>"
      ]
     },
     "metadata": {},
     "output_type": "display_data"
    }
   ],
   "source": [
    "This talk will review the history of Project Jupyter as scientific software born from the Scientific Python \n",
    "(SciPy) community.  Since it's inception, the community has extended Jupyter to work with over 50 different \n",
    "languages and provided new options for interactive development, research and presentation, including JupyterLab, \n",
    "the next generation of the Notebook.  In the broader open source community we find Jupyter tools for grading, batch \n",
    "processing, app development, documentation, tests, and even source code."
   ]
  },
  {
   "cell_type": "code",
   "execution_count": 6,
   "metadata": {},
   "outputs": [
    {
     "data": {
      "text/html": [
       "\n",
       "        <iframe\n",
       "            width=\"800\"\n",
       "            height=\"600\"\n",
       "            src=\"http://jupyter.org/\n",
       "\"\n",
       "            frameborder=\"0\"\n",
       "            allowfullscreen\n",
       "        ></iframe>\n",
       "        "
      ],
      "text/plain": [
       "<IPython.lib.display.IFrame at 0x109ee45f8>"
      ]
     },
     "metadata": {},
     "output_type": "display_data"
    }
   ],
   "source": [
    "    \n",
    "    {{ˣ.jupyter}}"
   ]
  },
  {
   "cell_type": "code",
   "execution_count": 7,
   "metadata": {
    "slideshow": {
     "slide_type": "subslide"
    }
   },
   "outputs": [
    {
     "data": {
      "text/markdown": [
       "Within organizations, Jupyter notebooks are commonly used to exchange ideas and build knowledge bases across \n",
       "diverse disciplines.  The talk will highlight recent case studies in Jupyter transforming classroom education, \n",
       "massive collaboration in physics, and the entire multimedia experience of learning."
      ],
      "text/plain": [
       "<IPython.core.display.Markdown object>"
      ]
     },
     "metadata": {},
     "output_type": "display_data"
    }
   ],
   "source": [
    "Within organizations, Jupyter notebooks are commonly used to exchange ideas and build knowledge bases across \n",
    "diverse disciplines.  The talk will highlight recent case studies in Jupyter transforming classroom education, \n",
    "massive collaboration in physics, and the entire multimedia experience of learning."
   ]
  },
  {
   "cell_type": "code",
   "execution_count": 8,
   "metadata": {
    "slideshow": {
     "slide_type": "slide"
    }
   },
   "outputs": [
    {
     "data": {
      "text/markdown": [
       "> ##  Jupyter is scientific software.\n",
       "> ##  Jupyter is part of the scientific Python community [ˣ](ˣ.glue).\n",
       "> ##  Jupyter creates [data](ˣ.nbformat).\n",
       "> ##  Jupyter is language agnostic.\n",
       "> ##  Jupyter is a lot of Python and Javascript"
      ],
      "text/plain": [
       "<IPython.core.display.Markdown object>"
      ]
     },
     "metadata": {},
     "output_type": "display_data"
    }
   ],
   "source": [
    "> ##  Jupyter is scientific software.\n",
    "> ##  Jupyter is part of the scientific Python community [ˣ](ˣ.glue).\n",
    "> ##  Jupyter creates [data](ˣ.nbformat).\n",
    "> ##  Jupyter is language agnostic.\n",
    "> ##  Jupyter is a lot of Python and Javascript"
   ]
  },
  {
   "cell_type": "code",
   "execution_count": 9,
   "metadata": {
    "slideshow": {
     "slide_type": "subslide"
    }
   },
   "outputs": [
    {
     "data": {
      "text/markdown": [
       "> ##  Jupyter has several interactive editting experiences.\n",
       "> ##  Jupyter can be used for publishing.\n",
       "> ##  Jupyter can empower teachers.\n",
       "> ##  Jupyter is massive research collaborations.\n",
       "> ##  Jupyter creates readable and reusable code documents"
      ],
      "text/plain": [
       "<IPython.core.display.Markdown object>"
      ]
     },
     "metadata": {},
     "output_type": "display_data"
    }
   ],
   "source": [
    "> ##  Jupyter has several interactive editting experiences.\n",
    "> ##  Jupyter can be used for publishing.\n",
    "> ##  Jupyter can empower teachers.\n",
    "> ##  Jupyter is massive research collaborations.\n",
    "> ##  Jupyter creates readable and reusable code documents"
   ]
  },
  {
   "cell_type": "code",
   "execution_count": 54,
   "metadata": {
    "slideshow": {
     "slide_type": "slide"
    }
   },
   "outputs": [
    {
     "data": {
      "image/svg+xml": [
       "<?xml version=\"1.0\" encoding=\"UTF-8\" standalone=\"no\"?>\n",
       "<!DOCTYPE svg PUBLIC \"-//W3C//DTD SVG 1.1//EN\"\n",
       " \"http://www.w3.org/Graphics/SVG/1.1/DTD/svg11.dtd\">\n",
       "<!-- Generated by graphviz version 2.38.0 (20140413.2041)\n",
       " -->\n",
       "<!-- Title: how Pages: 1 -->\n",
       "<svg width=\"465pt\" height=\"332pt\"\n",
       " viewBox=\"0.00 0.00 465.06 332.00\" xmlns=\"http://www.w3.org/2000/svg\" xmlns:xlink=\"http://www.w3.org/1999/xlink\">\n",
       "<g id=\"graph0\" class=\"graph\" transform=\"scale(1 1) rotate(0) translate(4 328)\">\n",
       "<title>how</title>\n",
       "<polygon fill=\"white\" stroke=\"none\" points=\"-4,4 -4,-328 461.061,-328 461.061,4 -4,4\"/>\n",
       "<!-- jupyter -->\n",
       "<g id=\"node1\" class=\"node\"><title>jupyter</title>\n",
       "<ellipse fill=\"none\" stroke=\"black\" cx=\"164.128\" cy=\"-306\" rx=\"35.3129\" ry=\"18\"/>\n",
       "<text text-anchor=\"middle\" x=\"164.128\" y=\"-301.8\" font-family=\"Times,serif\" font-size=\"14.00\">jupyter</text>\n",
       "</g>\n",
       "<!-- science -->\n",
       "<g id=\"node2\" class=\"node\"><title>science</title>\n",
       "<ellipse fill=\"none\" stroke=\"black\" cx=\"36.1277\" cy=\"-234\" rx=\"36.2558\" ry=\"18\"/>\n",
       "<text text-anchor=\"middle\" x=\"36.1277\" y=\"-229.8\" font-family=\"Times,serif\" font-size=\"14.00\">science</text>\n",
       "</g>\n",
       "<!-- jupyter&#45;&#45;science -->\n",
       "<g id=\"edge1\" class=\"edge\"><title>jupyter&#45;&#45;science</title>\n",
       "<path fill=\"none\" stroke=\"black\" d=\"M140.948,-292.324C117.894,-279.716 82.7121,-260.476 59.5676,-247.819\"/>\n",
       "</g>\n",
       "<!-- business -->\n",
       "<g id=\"node3\" class=\"node\"><title>business</title>\n",
       "<ellipse fill=\"none\" stroke=\"black\" cx=\"130.128\" cy=\"-234\" rx=\"40.1576\" ry=\"18\"/>\n",
       "<text text-anchor=\"middle\" x=\"130.128\" y=\"-229.8\" font-family=\"Times,serif\" font-size=\"14.00\">business</text>\n",
       "</g>\n",
       "<!-- jupyter&#45;&#45;business -->\n",
       "<g id=\"edge2\" class=\"edge\"><title>jupyter&#45;&#45;business</title>\n",
       "<path fill=\"none\" stroke=\"black\" d=\"M156.07,-288.411C150.729,-277.414 143.741,-263.027 138.364,-251.956\"/>\n",
       "</g>\n",
       "<!-- data -->\n",
       "<g id=\"node5\" class=\"node\"><title>data</title>\n",
       "<ellipse fill=\"none\" stroke=\"black\" cx=\"268.128\" cy=\"-234\" rx=\"27\" ry=\"18\"/>\n",
       "<text text-anchor=\"middle\" x=\"268.128\" y=\"-229.8\" font-family=\"Times,serif\" font-size=\"14.00\">data</text>\n",
       "</g>\n",
       "<!-- jupyter&#45;&#45;data -->\n",
       "<g id=\"edge6\" class=\"edge\"><title>jupyter&#45;&#45;data</title>\n",
       "<path fill=\"none\" stroke=\"black\" d=\"M184.675,-291.17C203.618,-278.42 231.481,-259.666 249.714,-247.394\"/>\n",
       "</g>\n",
       "<!-- grammars -->\n",
       "<g id=\"node6\" class=\"node\"><title>grammars</title>\n",
       "<ellipse fill=\"none\" stroke=\"black\" cx=\"146.128\" cy=\"-162\" rx=\"45.4355\" ry=\"18\"/>\n",
       "<text text-anchor=\"middle\" x=\"146.128\" y=\"-157.8\" font-family=\"Times,serif\" font-size=\"14.00\">grammars</text>\n",
       "</g>\n",
       "<!-- jupyter&#45;&#45;grammars -->\n",
       "<g id=\"edge7\" class=\"edge\"><title>jupyter&#45;&#45;grammars</title>\n",
       "<path fill=\"none\" stroke=\"black\" d=\"M171.284,-288.352C178.049,-270.284 186.191,-240.708 179.128,-216 175.314,-202.66 167.064,-189.41 159.768,-179.495\"/>\n",
       "</g>\n",
       "<!-- scipy -->\n",
       "<g id=\"node4\" class=\"node\"><title>scipy</title>\n",
       "<ellipse fill=\"none\" stroke=\"black\" cx=\"42.1277\" cy=\"-162\" rx=\"28.5497\" ry=\"18\"/>\n",
       "<text text-anchor=\"middle\" x=\"42.1277\" y=\"-157.8\" font-family=\"Times,serif\" font-size=\"14.00\">scipy</text>\n",
       "</g>\n",
       "<!-- science&#45;&#45;scipy -->\n",
       "<g id=\"edge3\" class=\"edge\"><title>science&#45;&#45;scipy</title>\n",
       "<path fill=\"none\" stroke=\"black\" d=\"M37.6108,-215.697C38.5409,-204.846 39.7348,-190.917 40.6616,-180.104\"/>\n",
       "</g>\n",
       "<!-- business&#45;&#45;scipy -->\n",
       "<g id=\"edge4\" class=\"edge\"><title>business&#45;&#45;scipy</title>\n",
       "<path fill=\"none\" stroke=\"black\" d=\"M111.033,-217.811C95.6658,-205.587 74.2554,-188.556 59.3955,-176.736\"/>\n",
       "</g>\n",
       "<!-- data&#45;&#45;grammars -->\n",
       "<g id=\"edge5\" class=\"edge\"><title>data&#45;&#45;grammars</title>\n",
       "<path fill=\"none\" stroke=\"black\" d=\"M248.255,-221.597C227.189,-209.51 193.873,-190.395 171.06,-177.305\"/>\n",
       "</g>\n",
       "<!-- interactive -->\n",
       "<g id=\"node7\" class=\"node\"><title>interactive</title>\n",
       "<ellipse fill=\"none\" stroke=\"black\" cx=\"286.128\" cy=\"-90\" rx=\"47.3478\" ry=\"18\"/>\n",
       "<text text-anchor=\"middle\" x=\"286.128\" y=\"-85.8\" font-family=\"Times,serif\" font-size=\"14.00\">interactive</text>\n",
       "</g>\n",
       "<!-- data&#45;&#45;interactive -->\n",
       "<g id=\"edge8\" class=\"edge\"><title>data&#45;&#45;interactive</title>\n",
       "<path fill=\"none\" stroke=\"black\" d=\"M270.299,-215.871C273.759,-188.578 280.484,-135.52 283.949,-108.189\"/>\n",
       "</g>\n",
       "<!-- grammars&#45;&#45;interactive -->\n",
       "<g id=\"edge9\" class=\"edge\"><title>grammars&#45;&#45;interactive</title>\n",
       "<path fill=\"none\" stroke=\"black\" d=\"M173.121,-147.503C197.594,-135.267 233.518,-117.305 258.259,-104.934\"/>\n",
       "</g>\n",
       "<!-- knowledge -->\n",
       "<g id=\"node8\" class=\"node\"><title>knowledge</title>\n",
       "<ellipse fill=\"none\" stroke=\"black\" cx=\"208.128\" cy=\"-18\" rx=\"48.8187\" ry=\"18\"/>\n",
       "<text text-anchor=\"middle\" x=\"208.128\" y=\"-13.8\" font-family=\"Times,serif\" font-size=\"14.00\">knowledge</text>\n",
       "</g>\n",
       "<!-- interactive&#45;&#45;knowledge -->\n",
       "<g id=\"edge10\" class=\"edge\"><title>interactive&#45;&#45;knowledge</title>\n",
       "<path fill=\"none\" stroke=\"black\" d=\"M268.428,-73.1159C255.663,-61.66 238.506,-46.2627 225.757,-34.8212\"/>\n",
       "</g>\n",
       "<!-- testing -->\n",
       "<g id=\"node9\" class=\"node\"><title>testing</title>\n",
       "<ellipse fill=\"none\" stroke=\"black\" cx=\"309.128\" cy=\"-18\" rx=\"33.877\" ry=\"18\"/>\n",
       "<text text-anchor=\"middle\" x=\"309.128\" y=\"-13.8\" font-family=\"Times,serif\" font-size=\"14.00\">testing</text>\n",
       "</g>\n",
       "<!-- interactive&#45;&#45;testing -->\n",
       "<g id=\"edge11\" class=\"edge\"><title>interactive&#45;&#45;testing</title>\n",
       "<path fill=\"none\" stroke=\"black\" d=\"M291.695,-72.055C295.312,-61.0492 300.005,-46.7636 303.611,-35.789\"/>\n",
       "</g>\n",
       "<!-- innovation -->\n",
       "<g id=\"node10\" class=\"node\"><title>innovation</title>\n",
       "<ellipse fill=\"none\" stroke=\"black\" cx=\"409.128\" cy=\"-18\" rx=\"47.8668\" ry=\"18\"/>\n",
       "<text text-anchor=\"middle\" x=\"409.128\" y=\"-13.8\" font-family=\"Times,serif\" font-size=\"14.00\">innovation</text>\n",
       "</g>\n",
       "<!-- interactive&#45;&#45;innovation -->\n",
       "<g id=\"edge12\" class=\"edge\"><title>interactive&#45;&#45;innovation</title>\n",
       "<path fill=\"none\" stroke=\"black\" d=\"M311.315,-74.6655C332.4,-62.6659 362.358,-45.6171 383.551,-33.5558\"/>\n",
       "</g>\n",
       "<!-- knowledge&#45;&#45;data -->\n",
       "<g id=\"edge13\" class=\"edge\"><title>knowledge&#45;&#45;data</title>\n",
       "<path fill=\"none\" stroke=\"black\" d=\"M212.079,-36.1315C216.29,-54.1038 223.282,-83.1408 230.128,-108 240.847,-146.925 255.031,-192.152 262.68,-216.099\"/>\n",
       "</g>\n",
       "<!-- testing&#45;&#45;data -->\n",
       "<g id=\"edge14\" class=\"edge\"><title>testing&#45;&#45;data</title>\n",
       "<path fill=\"none\" stroke=\"black\" d=\"M322.426,-35.0328C329.805,-44.9961 338.255,-58.4518 342.128,-72 346.526,-87.3837 346.353,-92.568 342.128,-108 330.206,-151.54 298.777,-195.305 280.949,-217.694\"/>\n",
       "</g>\n",
       "<!-- innovation&#45;&#45;data -->\n",
       "<g id=\"edge15\" class=\"edge\"><title>innovation&#45;&#45;data</title>\n",
       "<path fill=\"none\" stroke=\"black\" d=\"M403.634,-36.3314C393.216,-67.3836 368.343,-133.589 332.128,-180 319.348,-196.378 300.695,-211.1 286.82,-220.847\"/>\n",
       "</g>\n",
       "</g>\n",
       "</svg>\n"
      ],
      "text/plain": [
       "<graphviz.files.Source at 0x10a023d68>"
      ]
     },
     "metadata": {},
     "output_type": "display_data"
    }
   ],
   "source": [
    "        \n",
    "        graph how {\n",
    "\n",
    "* Jupyter is scientific software impacting science and businesss.\n",
    "            \n",
    "            jupyter -- {science business} \n",
    "            \n",
    "* Jupyter is part of the scientific Python community [ˣ](ˣ.glue).\n",
    "            \n",
    "            -- scipy \n",
    "        \n",
    "* Jupyter creates [data](ˣ.nbformat).\n",
    "            \n",
    "            jupyter -- {data \n",
    "            \n",
    "* Jupyter is language agnostic.\n",
    "                         \n",
    "                        -- grammars}\n",
    "            \n",
    "* Jupyter is a lot of Python and Javascript\n",
    "            \n",
    "            -- interactive\n",
    "            \n",
    "* Jupyter has several interactive editting experiences.\n",
    "* Jupyter can be used for publishing.\n",
    "            \n",
    "            -- {knowledge\n",
    "            \n",
    "* Jupyter can empower teachers.\n",
    "                \n",
    "                testing\n",
    "            \n",
    "* Jupyter is massive research collaborations.\n",
    "                \n",
    "                innovation}\n",
    "                \n",
    "* Jupyter creates readable and reusable code documents\n",
    "            \n",
    "            -- data\n",
    "        }"
   ]
  },
  {
   "cell_type": "code",
   "execution_count": null,
   "metadata": {},
   "outputs": [],
   "source": []
  }
 ],
 "metadata": {
  "celltoolbar": "Slideshow",
  "kernelspec": {
   "display_name": "p6",
   "language": "python",
   "name": "other-env"
  },
  "language_info": {
   "codemirror_mode": {
    "name": "ipython",
    "version": 3
   },
   "file_extension": ".py",
   "mimetype": "text/x-python",
   "name": "python",
   "nbconvert_exporter": "python",
   "pygments_lexer": "ipython3",
   "version": "3.6.3"
  }
 },
 "nbformat": 4,
 "nbformat_minor": 2
}

Join the chat at https://gitter.im/tonyfast-ten/Lobby
